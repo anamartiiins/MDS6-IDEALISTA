{
 "cells": [
  {
   "cell_type": "code",
   "execution_count": 1,
   "metadata": {},
   "outputs": [],
   "source": [
    "import pandas as pd\n",
    "import seaborn as sns\n",
    "import matplotlib.pyplot as plt\n",
    "from sklearn.model_selection import train_test_split\n",
    "\n",
    "from src.evaluation.evaluation import calculate_metrics\n",
    "\n",
    "pd.options.display.float_format = '{:.2f}'.format"
   ]
  },
  {
   "cell_type": "code",
   "execution_count": 2,
   "metadata": {},
   "outputs": [],
   "source": [
    "df_assets = pd.read_csv(r'output_data/df_util.csv')"
   ]
  },
  {
   "cell_type": "code",
   "execution_count": 98,
   "metadata": {},
   "outputs": [
    {
     "name": "stdout",
     "output_type": "stream",
     "text": [
      "Metrics:\n",
      "ME - Mean Error: -4208.9819072604805\n",
      "MAE - Mean Absolute Error: 169362.84475361544\n",
      "MAPE - Mean Absolute Percentage Error: 48.85837417317938\n",
      "RMSE - Root Mean Squared Error: 320104.4197078232\n",
      "R2 - Coefficient of Determination: 0.4108176984298131\n"
     ]
    }
   ],
   "source": [
    "# Call the calculate_metrics function: DF_TRAIN!!\n",
    "metrics, df_test_with_metrics = calculate_metrics(df_test['precio'], df_test['precio_mean_barrio'], df_test)\n",
    "\n",
    "# Print the calculated metrics\n",
    "print(\"Metrics:\")\n",
    "for metric, value in metrics.items():\n",
    "    print(f\"{metric}: {value}\")"
   ]
  },
  {
   "cell_type": "code",
   "execution_count": 133,
   "metadata": {},
   "outputs": [],
   "source": [
    "cols_df_evaluation=['model', 'mean_error', 'mae', 'mape', 'ape', 'rmse', 'r2']\n",
    "df_evaluation=pd.DataFrame(columns=cols_df_evaluation)"
   ]
  },
  {
   "cell_type": "code",
   "execution_count": 137,
   "metadata": {},
   "outputs": [
    {
     "ename": "AttributeError",
     "evalue": "'DataFrame' object has no attribute 'append'",
     "output_type": "error",
     "traceback": [
      "\u001b[1;31m---------------------------------------------------------------------------\u001b[0m",
      "\u001b[1;31mAttributeError\u001b[0m                            Traceback (most recent call last)",
      "\u001b[1;32m~\\AppData\\Local\\Temp\\ipykernel_2360\\1640803710.py\u001b[0m in \u001b[0;36m?\u001b[1;34m()\u001b[0m\n\u001b[0;32m      6\u001b[0m     \u001b[1;34m'rmse'\u001b[0m\u001b[1;33m:\u001b[0m \u001b[0mmetrics\u001b[0m\u001b[1;33m[\u001b[0m\u001b[1;34m'RMSE - Root Mean Squared Error'\u001b[0m\u001b[1;33m]\u001b[0m\u001b[1;33m,\u001b[0m\u001b[1;33m\u001b[0m\u001b[1;33m\u001b[0m\u001b[0m\n\u001b[0;32m      7\u001b[0m     \u001b[1;34m'r2'\u001b[0m\u001b[1;33m:\u001b[0m \u001b[0mmetrics\u001b[0m\u001b[1;33m[\u001b[0m\u001b[1;34m'R2 - Coefficient of Determination'\u001b[0m\u001b[1;33m]\u001b[0m\u001b[1;33m\u001b[0m\u001b[1;33m\u001b[0m\u001b[0m\n\u001b[0;32m      8\u001b[0m }\n\u001b[0;32m      9\u001b[0m \u001b[1;33m\u001b[0m\u001b[0m\n\u001b[1;32m---> 10\u001b[1;33m \u001b[0mdf_evaluation\u001b[0m \u001b[1;33m=\u001b[0m \u001b[0mdf_evaluation\u001b[0m\u001b[1;33m.\u001b[0m\u001b[0mappend\u001b[0m\u001b[1;33m(\u001b[0m\u001b[0mnew_row\u001b[0m\u001b[1;33m,\u001b[0m \u001b[0mignore_index\u001b[0m\u001b[1;33m=\u001b[0m\u001b[1;32mTrue\u001b[0m\u001b[1;33m)\u001b[0m\u001b[1;33m\u001b[0m\u001b[1;33m\u001b[0m\u001b[0m\n\u001b[0m",
      "\u001b[1;32mc:\\Users\\aimartins\\OneDrive - Parfois, SA\\Desktop\\MDS6\\MDS6-IDEALISTA\\.venv\\lib\\site-packages\\pandas\\core\\generic.py\u001b[0m in \u001b[0;36m?\u001b[1;34m(self, name)\u001b[0m\n\u001b[0;32m   6289\u001b[0m             \u001b[1;32mand\u001b[0m \u001b[0mname\u001b[0m \u001b[1;32mnot\u001b[0m \u001b[1;32min\u001b[0m \u001b[0mself\u001b[0m\u001b[1;33m.\u001b[0m\u001b[0m_accessors\u001b[0m\u001b[1;33m\u001b[0m\u001b[1;33m\u001b[0m\u001b[0m\n\u001b[0;32m   6290\u001b[0m             \u001b[1;32mand\u001b[0m \u001b[0mself\u001b[0m\u001b[1;33m.\u001b[0m\u001b[0m_info_axis\u001b[0m\u001b[1;33m.\u001b[0m\u001b[0m_can_hold_identifiers_and_holds_name\u001b[0m\u001b[1;33m(\u001b[0m\u001b[0mname\u001b[0m\u001b[1;33m)\u001b[0m\u001b[1;33m\u001b[0m\u001b[1;33m\u001b[0m\u001b[0m\n\u001b[0;32m   6291\u001b[0m         ):\n\u001b[0;32m   6292\u001b[0m             \u001b[1;32mreturn\u001b[0m \u001b[0mself\u001b[0m\u001b[1;33m[\u001b[0m\u001b[0mname\u001b[0m\u001b[1;33m]\u001b[0m\u001b[1;33m\u001b[0m\u001b[1;33m\u001b[0m\u001b[0m\n\u001b[1;32m-> 6293\u001b[1;33m         \u001b[1;32mreturn\u001b[0m \u001b[0mobject\u001b[0m\u001b[1;33m.\u001b[0m\u001b[0m__getattribute__\u001b[0m\u001b[1;33m(\u001b[0m\u001b[0mself\u001b[0m\u001b[1;33m,\u001b[0m \u001b[0mname\u001b[0m\u001b[1;33m)\u001b[0m\u001b[1;33m\u001b[0m\u001b[1;33m\u001b[0m\u001b[0m\n\u001b[0m",
      "\u001b[1;31mAttributeError\u001b[0m: 'DataFrame' object has no attribute 'append'"
     ]
    }
   ],
   "source": [
    "new_row = {\n",
    "    'model': 'Your_Model_Name',  # Replace 'Your_Model_Name' with the name of your model\n",
    "    'mean_error': metrics['ME - Mean Error'],\n",
    "    'mae': metrics['MAE - Mean Absolute Error'],\n",
    "    'mape': metrics['MAPE - Mean Absolute Percentage Error'],\n",
    "    'rmse': metrics['RMSE - Root Mean Squared Error'],\n",
    "    'r2': metrics['R2 - Coefficient of Determination']\n",
    "}\n",
    "\n",
    "df_evaluation = df_evaluation.append(new_row, ignore_index=True)\n"
   ]
  },
  {
   "cell_type": "code",
   "execution_count": 139,
   "metadata": {},
   "outputs": [],
   "source": [
    "# Append the new row to the DataFrame\n",
    "df_evaluation.loc[len(df_evaluation)] = new_row"
   ]
  },
  {
   "cell_type": "code",
   "execution_count": 140,
   "metadata": {},
   "outputs": [
    {
     "data": {
      "text/html": [
       "<div>\n",
       "<style scoped>\n",
       "    .dataframe tbody tr th:only-of-type {\n",
       "        vertical-align: middle;\n",
       "    }\n",
       "\n",
       "    .dataframe tbody tr th {\n",
       "        vertical-align: top;\n",
       "    }\n",
       "\n",
       "    .dataframe thead th {\n",
       "        text-align: right;\n",
       "    }\n",
       "</style>\n",
       "<table border=\"1\" class=\"dataframe\">\n",
       "  <thead>\n",
       "    <tr style=\"text-align: right;\">\n",
       "      <th></th>\n",
       "      <th>model</th>\n",
       "      <th>mean_error</th>\n",
       "      <th>mae</th>\n",
       "      <th>mape</th>\n",
       "      <th>ape</th>\n",
       "      <th>rmse</th>\n",
       "      <th>r2</th>\n",
       "    </tr>\n",
       "  </thead>\n",
       "  <tbody>\n",
       "    <tr>\n",
       "      <th>0</th>\n",
       "      <td>Your_Model_Name</td>\n",
       "      <td>-4208.98</td>\n",
       "      <td>169362.84</td>\n",
       "      <td>48.86</td>\n",
       "      <td>NaN</td>\n",
       "      <td>320104.42</td>\n",
       "      <td>0.41</td>\n",
       "    </tr>\n",
       "  </tbody>\n",
       "</table>\n",
       "</div>"
      ],
      "text/plain": [
       "             model  mean_error       mae  mape  ape      rmse   r2\n",
       "0  Your_Model_Name    -4208.98 169362.84 48.86  NaN 320104.42 0.41"
      ]
     },
     "execution_count": 140,
     "metadata": {},
     "output_type": "execute_result"
    }
   ],
   "source": [
    "df_evaluation"
   ]
  },
  {
   "cell_type": "code",
   "execution_count": 123,
   "metadata": {},
   "outputs": [
    {
     "name": "stdout",
     "output_type": "stream",
     "text": [
      "                                  Metric     Value\n",
      "0                        ME - Mean Error  -4208.98\n",
      "1              MAE - Mean Absolute Error 169362.84\n",
      "2  MAPE - Mean Absolute Percentage Error     48.86\n",
      "3         RMSE - Root Mean Squared Error 320104.42\n",
      "4      R2 - Coefficient of Determination      0.41\n",
      "                                          Model\n",
      "ME - Mean Error                        -4208.98\n",
      "MAE - Mean Absolute Error             169362.84\n",
      "MAPE - Mean Absolute Percentage Error     48.86\n",
      "RMSE - Root Mean Squared Error        320104.42\n",
      "R2 - Coefficient of Determination          0.41\n"
     ]
    }
   ],
   "source": [
    "# Convert the metrics dictionary to a list of dictionaries\n",
    "data = [{'Metric': key, 'Value': value} for key, value in metrics.items()]\n",
    "\n",
    "# Create the DataFrame\n",
    "new_df = pd.DataFrame(data)\n",
    "\n",
    "# Display the new DataFrame\n",
    "print(new_df)\n",
    "\n",
    "# Create a DataFrame from the metrics dictionary\n",
    "metrics_df = pd.DataFrame(metrics, index=['Model'])\n",
    "\n",
    "# Transpose the DataFrame\n",
    "metrics_df = metrics_df.T\n",
    "\n",
    "# Display the new DataFrame\n",
    "print(metrics_df)\n"
   ]
  },
  {
   "cell_type": "code",
   "execution_count": 128,
   "metadata": {},
   "outputs": [
    {
     "data": {
      "text/html": [
       "<div>\n",
       "<style scoped>\n",
       "    .dataframe tbody tr th:only-of-type {\n",
       "        vertical-align: middle;\n",
       "    }\n",
       "\n",
       "    .dataframe tbody tr th {\n",
       "        vertical-align: top;\n",
       "    }\n",
       "\n",
       "    .dataframe thead th {\n",
       "        text-align: right;\n",
       "    }\n",
       "</style>\n",
       "<table border=\"1\" class=\"dataframe\">\n",
       "  <thead>\n",
       "    <tr style=\"text-align: right;\">\n",
       "      <th></th>\n",
       "      <th>ME - Mean Error</th>\n",
       "      <th>MAE - Mean Absolute Error</th>\n",
       "      <th>MAPE - Mean Absolute Percentage Error</th>\n",
       "      <th>RMSE - Root Mean Squared Error</th>\n",
       "      <th>R2 - Coefficient of Determination</th>\n",
       "    </tr>\n",
       "  </thead>\n",
       "  <tbody>\n",
       "    <tr>\n",
       "      <th>Model</th>\n",
       "      <td>-4208.98</td>\n",
       "      <td>169362.84</td>\n",
       "      <td>48.86</td>\n",
       "      <td>320104.42</td>\n",
       "      <td>0.41</td>\n",
       "    </tr>\n",
       "  </tbody>\n",
       "</table>\n",
       "</div>"
      ],
      "text/plain": [
       "       ME - Mean Error  MAE - Mean Absolute Error  \\\n",
       "Model         -4208.98                  169362.84   \n",
       "\n",
       "       MAPE - Mean Absolute Percentage Error  RMSE - Root Mean Squared Error  \\\n",
       "Model                                  48.86                       320104.42   \n",
       "\n",
       "       R2 - Coefficient of Determination  \n",
       "Model                               0.41  "
      ]
     },
     "execution_count": 128,
     "metadata": {},
     "output_type": "execute_result"
    }
   ],
   "source": [
    "#dividir por bairro\n",
    "metrics_df=metrics_df.transpose()\n",
    "metrics_df"
   ]
  },
  {
   "cell_type": "code",
   "execution_count": 129,
   "metadata": {},
   "outputs": [],
   "source": [
    "metrics_df.reset_index(inplace=True)\n",
    "metrics_df.rename(columns={'index': 'Model'}, inplace=True)"
   ]
  },
  {
   "cell_type": "code",
   "execution_count": 130,
   "metadata": {},
   "outputs": [
    {
     "data": {
      "text/html": [
       "<div>\n",
       "<style scoped>\n",
       "    .dataframe tbody tr th:only-of-type {\n",
       "        vertical-align: middle;\n",
       "    }\n",
       "\n",
       "    .dataframe tbody tr th {\n",
       "        vertical-align: top;\n",
       "    }\n",
       "\n",
       "    .dataframe thead th {\n",
       "        text-align: right;\n",
       "    }\n",
       "</style>\n",
       "<table border=\"1\" class=\"dataframe\">\n",
       "  <thead>\n",
       "    <tr style=\"text-align: right;\">\n",
       "      <th></th>\n",
       "      <th>Model</th>\n",
       "      <th>ME - Mean Error</th>\n",
       "      <th>MAE - Mean Absolute Error</th>\n",
       "      <th>MAPE - Mean Absolute Percentage Error</th>\n",
       "      <th>RMSE - Root Mean Squared Error</th>\n",
       "      <th>R2 - Coefficient of Determination</th>\n",
       "    </tr>\n",
       "  </thead>\n",
       "  <tbody>\n",
       "    <tr>\n",
       "      <th>0</th>\n",
       "      <td>Model</td>\n",
       "      <td>-4208.98</td>\n",
       "      <td>169362.84</td>\n",
       "      <td>48.86</td>\n",
       "      <td>320104.42</td>\n",
       "      <td>0.41</td>\n",
       "    </tr>\n",
       "  </tbody>\n",
       "</table>\n",
       "</div>"
      ],
      "text/plain": [
       "   Model  ME - Mean Error  MAE - Mean Absolute Error  \\\n",
       "0  Model         -4208.98                  169362.84   \n",
       "\n",
       "   MAPE - Mean Absolute Percentage Error  RMSE - Root Mean Squared Error  \\\n",
       "0                                  48.86                       320104.42   \n",
       "\n",
       "   R2 - Coefficient of Determination  \n",
       "0                               0.41  "
      ]
     },
     "execution_count": 130,
     "metadata": {},
     "output_type": "execute_result"
    }
   ],
   "source": [
    "metrics_df\n",
    "#TODO: add variables median perc error, %cases with error>0,05, etc "
   ]
  },
  {
   "cell_type": "code",
   "execution_count": 84,
   "metadata": {},
   "outputs": [],
   "source": [
    "metrics, df_test_with_metrics = calculate_metrics(df_test['precio'], df_test['precio_mean_barrio'], df_test)"
   ]
  },
  {
   "cell_type": "code",
   "execution_count": 100,
   "metadata": {},
   "outputs": [
    {
     "name": "stderr",
     "output_type": "stream",
     "text": [
      "c:\\Users\\aimartins\\OneDrive - Parfois, SA\\Desktop\\MDS6\\MDS6-IDEALISTA\\.venv\\lib\\site-packages\\seaborn\\_oldcore.py:1119: FutureWarning: use_inf_as_na option is deprecated and will be removed in a future version. Convert inf values to NaN before operating instead.\n",
      "  with pd.option_context('mode.use_inf_as_na', True):\n"
     ]
    },
    {
     "data": {
      "text/plain": [
       "Text(0.5, 1.0, 'Normality of error terms/residuals')"
      ]
     },
     "execution_count": 100,
     "metadata": {},
     "output_type": "execute_result"
    },
    {
     "data": {
      "image/png": "[encoded data removed]",
      "text/plain": [
       "<Figure size 500x500 with 1 Axes>"
      ]
     },
     "metadata": {},
     "output_type": "display_data"
    }
   ],
   "source": [
    "sns.displot(df_test['precio']-df_test['precio_mean_barrio'],kde=True)\n",
    "plt.xlim(-700000, 700000)\n",
    "plt.title('Normality of error terms/residuals')"
   ]
  },
  {
   "cell_type": "code",
   "execution_count": 119,
   "metadata": {},
   "outputs": [
    {
     "data": {
      "image/png": "[encoded data removed]",
      "text/plain": [
       "<Figure size 1000x600 with 1 Axes>"
      ]
     },
     "metadata": {},
     "output_type": "display_data"
    }
   ],
   "source": [
    "# Set the figure size\n",
    "plt.figure(figsize=(10, 6))\n",
    "\n",
    "# Select the error columns from the DataFrame\n",
    "error_columns = ['absolute_error', 'error']\n",
    "\n",
    "# Create a box plot for the error columns\n",
    "sns.boxplot(data=df_test_with_metrics[error_columns], orient='v')\n",
    "\n",
    "# Set labels and title\n",
    "plt.ylabel('Error')\n",
    "plt.title('Box Plot of Errors')\n"
   ]
  },
  {
   "cell_type": "code",
   "execution_count": 2,
   "metadata": {},
   "outputs": [],
   "source": [
    "from typing import Any, List\n",
    "from sklearn.pipeline import Pipeline\n",
    "from sklearn.compose import ColumnTransformer\n",
    "from sklearn.impute import SimpleImputer\n",
    "from sklearn.preprocessing import StandardScaler, OneHotEncoder\n"
   ]
  },
  {
   "cell_type": "code",
   "execution_count": 3,
   "metadata": {},
   "outputs": [],
   "source": [
    "def get_pipeline(\n",
    "    base_model: Any,\n",
    "    impute: bool,\n",
    "    scale: bool,\n",
    "    encode: bool,\n",
    "    impute_model_cat: Any = SimpleImputer(strategy=\"most_frequent\"),\n",
    "    impute_model_num: Any = SimpleImputer(strategy=\"median\"),\n",
    "    scale_model: Any = StandardScaler(),\n",
    "    encode_model: Any = OneHotEncoder(handle_unknown=\"ignore\", sparse_output=False),\n",
    "    cat_features: List[str] = None,\n",
    "    num_features: List[str] = None,\n",
    ") -> Pipeline:\n",
    "    \"\"\"\n",
    "    Build a sklearn pipeline for preprocessing and modeling.\n",
    "    :param base_model: Base model to be added at the end of the pipeline.\n",
    "    :param impute: Indicates whether missing values imputation should be performed.\n",
    "    :param scale: Indicates whether numerical feature scaling should be performed.\n",
    "    :param encode: Indicates whether categorical feature encoding should be performed.\n",
    "    :param impute_model_cat: Imputation model for categorical features.\n",
    "      Default is SimpleImputer with strategy \"most_frequent\".\n",
    "    :param impute_model_num: Imputation model for numerical features.\n",
    "      Default is SimpleImputer with strategy \"median\".\n",
    "    :param scale_model: Scaling model for numerical features.\n",
    "      Default is StandardScaler.\n",
    "    :param encode_model: Encoding model for categorical features.\n",
    "      Default is OneHotEncoder with \"ignore\" handling for unknown values.\n",
    "    :param cat_features: List of names of categorical features.\n",
    "      Used to apply specific transformations to these features.\n",
    "    :param num_features: List of names of numerical features.\n",
    "      Used to apply specific transformations to these features.\n",
    "    :Return: Sklearn pipeline that includes preprocessing steps and the base model.\n",
    "\n",
    "    \"\"\"\n",
    "    # Create the list of transformers\n",
    "    cat_transformers = []\n",
    "    num_transformers = []\n",
    "    if impute and cat_features:\n",
    "        cat_transformers.append((\"imputer_cat\", impute_model_cat))\n",
    "    if impute and num_features:\n",
    "        num_transformers.append((\"imputer_num\", impute_model_num))\n",
    "    if scale and num_features:\n",
    "        num_transformers.append((\"scaler\", scale_model))\n",
    "    if encode and cat_features:\n",
    "        cat_transformers.append((\"encoder\", encode_model))\n",
    "\n",
    "    if not cat_transformers:\n",
    "        cat_transformers.append((\"passthrough\", \"passthrough\"))\n",
    "    if not num_transformers:\n",
    "        num_transformers.append((\"passthrough\", \"passthrough\"))\n",
    "\n",
    "    numeric_transformer = Pipeline(\n",
    "        steps=num_transformers,\n",
    "    )\n",
    "    categorical_transformer = Pipeline(\n",
    "        steps=cat_transformers,\n",
    "    )\n",
    "    preprocessor = ColumnTransformer(\n",
    "        transformers=[\n",
    "            (\"num\", numeric_transformer, num_features),\n",
    "            (\"cat\", categorical_transformer, cat_features),\n",
    "        ],\n",
    "        verbose_feature_names_out=False,\n",
    "    )\n",
    "\n",
    "    pipeline = Pipeline(steps=[(\"preprocessor\", preprocessor), (\"model\", base_model)])\n",
    "\n",
    "    return pipeline"
   ]
  },
  {
   "cell_type": "code",
   "execution_count": null,
   "metadata": {},
   "outputs": [],
   "source": []
  }
 ],
 "metadata": {
  "kernelspec": {
   "display_name": ".venv",
   "language": "python",
   "name": "python3"
  },
  "language_info": {
   "codemirror_mode": {
    "name": "ipython",
    "version": 3
   },
   "file_extension": ".py",
   "mimetype": "text/x-python",
   "name": "python",
   "nbconvert_exporter": "python",
   "pygments_lexer": "ipython3",
   "version": "3.10.1"
  }
 },
 "nbformat": 4,
 "nbformat_minor": 2
}
