{
 "cells": [
  {
   "cell_type": "code",
   "execution_count": 25,
   "metadata": {},
   "outputs": [],
   "source": [
    "import pandas as pd\n",
    "import seaborn as sns\n",
    "import matplotlib.pyplot as plt\n",
    "from sklearn.model_selection import train_test_split\n",
    "from src.evaluation.evaluation import calculate_metrics\n",
    "pd.options.display.float_format = '{:.2f}'.format\n",
    "import numpy as np"
   ]
  },
  {
   "cell_type": "code",
   "execution_count": 2,
   "metadata": {},
   "outputs": [],
   "source": [
    "df_train = pd.read_csv(r'output_data/df_train_util.csv')\n",
    "df_test = pd.read_csv(r'output_data/df_test_util.csv')"
   ]
  },
  {
   "cell_type": "code",
   "execution_count": 41,
   "metadata": {},
   "outputs": [],
   "source": [
    "# Call the calculate_metrics function\n",
    "metrics_df, df_test_with_metrics = calculate_metrics(df_test['precio'], df_test['precio_mean_barrio'], df_test)\n",
    "metrics_df.transpose().to_csv(r'output_data\\evaluation.csv')"
   ]
  },
  {
   "cell_type": "code",
   "execution_count": 3,
   "metadata": {},
   "outputs": [],
   "source": [
    "from typing import Any, List\n",
    "from sklearn.pipeline import Pipeline\n",
    "from sklearn.compose import ColumnTransformer\n",
    "from sklearn.impute import SimpleImputer\n",
    "from sklearn.preprocessing import StandardScaler, OneHotEncoder\n",
    "\n",
    "def get_pipeline(\n",
    "    base_model: Any,\n",
    "    impute: bool,\n",
    "    scale: bool,\n",
    "    encode: bool,\n",
    "    impute_model_cat: Any = SimpleImputer(strategy=\"most_frequent\"),\n",
    "    impute_model_num: Any = SimpleImputer(strategy=\"median\"),\n",
    "    scale_model: Any = StandardScaler(),\n",
    "    encode_model: Any = OneHotEncoder(handle_unknown=\"ignore\", sparse_output=False),\n",
    "    cat_features: List[str] = None,\n",
    "    num_features: List[str] = None,\n",
    ") -> Pipeline:\n",
    "    \"\"\"\n",
    "    Build a sklearn pipeline for preprocessing and modeling.\n",
    "    :param base_model: Base model to be added at the end of the pipeline.\n",
    "    :param impute: Indicates whether missing values imputation should be performed.\n",
    "    :param scale: Indicates whether numerical feature scaling should be performed.\n",
    "    :param encode: Indicates whether categorical feature encoding should be performed.\n",
    "    :param impute_model_cat: Imputation model for categorical features.\n",
    "      Default is SimpleImputer with strategy \"most_frequent\".\n",
    "    :param impute_model_num: Imputation model for numerical features.\n",
    "      Default is SimpleImputer with strategy \"median\".\n",
    "    :param scale_model: Scaling model for numerical features.\n",
    "      Default is StandardScaler.\n",
    "    :param encode_model: Encoding model for categorical features.\n",
    "      Default is OneHotEncoder with \"ignore\" handling for unknown values.\n",
    "    :param cat_features: List of names of categorical features.\n",
    "      Used to apply specific transformations to these features.\n",
    "    :param num_features: List of names of numerical features.\n",
    "      Used to apply specific transformations to these features.\n",
    "    :Return: Sklearn pipeline that includes preprocessing steps and the base model.\n",
    "\n",
    "    \"\"\"\n",
    "    # Create the list of transformers\n",
    "    cat_transformers = []\n",
    "    num_transformers = []\n",
    "    if impute and cat_features:\n",
    "        cat_transformers.append((\"imputer_cat\", impute_model_cat))\n",
    "    if impute and num_features:\n",
    "        num_transformers.append((\"imputer_num\", impute_model_num))\n",
    "    if scale and num_features:\n",
    "        num_transformers.append((\"scaler\", scale_model))\n",
    "    if encode and cat_features:\n",
    "        cat_transformers.append((\"encoder\", encode_model))\n",
    "\n",
    "    if not cat_transformers:\n",
    "        cat_transformers.append((\"passthrough\", \"passthrough\"))\n",
    "    if not num_transformers:\n",
    "        num_transformers.append((\"passthrough\", \"passthrough\"))\n",
    "\n",
    "    numeric_transformer = Pipeline(\n",
    "        steps=num_transformers,\n",
    "    )\n",
    "    categorical_transformer = Pipeline(\n",
    "        steps=cat_transformers,\n",
    "    )\n",
    "    preprocessor = ColumnTransformer(\n",
    "        transformers=[\n",
    "            (\"num\", numeric_transformer, num_features),\n",
    "            (\"cat\", categorical_transformer, cat_features),\n",
    "        ],\n",
    "        verbose_feature_names_out=False,\n",
    "    )\n",
    "\n",
    "    pipeline = Pipeline(steps=[(\"preprocessor\", preprocessor), (\"model\", base_model)])\n",
    "\n",
    "    return pipeline"
   ]
  },
  {
   "cell_type": "code",
   "execution_count": null,
   "metadata": {},
   "outputs": [],
   "source": []
  }
 ],
 "metadata": {
  "kernelspec": {
   "display_name": ".venv",
   "language": "python",
   "name": "python3"
  },
  "language_info": {
   "codemirror_mode": {
    "name": "ipython",
    "version": 3
   },
   "file_extension": ".py",
   "mimetype": "text/x-python",
   "name": "python",
   "nbconvert_exporter": "python",
   "pygments_lexer": "ipython3",
   "version": "3.10.1"
  }
 },
 "nbformat": 4,
 "nbformat_minor": 2
}
