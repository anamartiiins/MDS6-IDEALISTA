{
 "cells": [
  {
   "cell_type": "code",
   "execution_count": 1,
   "metadata": {},
   "outputs": [],
   "source": [
    "import pandas as pd\n",
    "import seaborn as sns\n",
    "import matplotlib.pyplot as plt\n",
    "from src.evaluation.evaluation import calculate_metrics, export_model\n",
    "from sklearn.metrics import mean_squared_error\n",
    "from sklearn import tree, ensemble\n",
    "import numpy as np\n",
    "import pickle\n",
    "from src.modelization.models_utils import get_pipeline\n",
    "from src.constants import BASE_PATH_EXPERIMENTS, PATH_EVALUATION_DF_WITH_METRICS_CSV, PATH_EVALUATION_CSV, PATH_TRAIN, PATH_TEST\n",
    "from datetime import datetime\n",
    "pd.options.display.float_format = '{:.2f}'.format"
   ]
  },
  {
   "cell_type": "code",
   "execution_count": 2,
   "metadata": {},
   "outputs": [],
   "source": [
    "#Read Data\n",
    "df_train = pd.read_csv(PATH_TRAIN)\n",
    "df_test = pd.read_csv(PATH_TEST)\n",
    "evaluation_df_with_metrics = pd.read_csv(PATH_EVALUATION_DF_WITH_METRICS_CSV)\n",
    "evaluation = pd.read_csv(PATH_EVALUATION_CSV)"
   ]
  },
  {
   "cell_type": "code",
   "execution_count": 3,
   "metadata": {},
   "outputs": [],
   "source": [
    "columns_to_drop=['precio_unitario_m2', 'geometry', 'precio_logaritmico', 'barrio_id', 'barrio']\n",
    "df_train = df_train.drop(columns=columns_to_drop)\n",
    "df_test = df_test.drop(columns=columns_to_drop)"
   ]
  },
  {
   "cell_type": "code",
   "execution_count": 5,
   "metadata": {},
   "outputs": [],
   "source": [
    "# Call the calculate_metrics function\n",
    "baseline_model = 'Precio medio por barrio'\n",
    "metrics_df, df_test_with_metrics = calculate_metrics(df_test['precio'], df_test['precio_mean_barrio'], df_test, model_name=baseline_model)\n",
    "df_test_with_metrics['model_name'] = baseline_model\n",
    "evaluation_df_with_metrics = pd.concat([evaluation_df_with_metrics, df_test_with_metrics], ignore_index=True)\n",
    "evaluation =pd.concat([evaluation, metrics_df], ignore_index=True)"
   ]
  },
  {
   "cell_type": "code",
   "execution_count": 5,
   "metadata": {},
   "outputs": [],
   "source": [
    "X_train = df_train.drop(columns=['precio'])\n",
    "y_train = df_train['precio']\n",
    "X_test = df_test.drop(columns=['precio'])\n",
    "y_test = df_test['precio']"
   ]
  },
  {
   "cell_type": "code",
   "execution_count": 23,
   "metadata": {},
   "outputs": [
    {
     "name": "stderr",
     "output_type": "stream",
     "text": [
      "c:\\Users\\aimartins\\OneDrive - Parfois, SA\\Desktop\\MDS6\\MDS6-IDEALISTA\\.venv\\lib\\site-packages\\sklearn\\base.py:486: UserWarning: X has feature names, but RandomForestRegressor was fitted without feature names\n",
      "  warnings.warn(\n",
      "c:\\Users\\aimartins\\OneDrive - Parfois, SA\\Desktop\\MDS6\\MDS6-IDEALISTA\\.venv\\lib\\site-packages\\sklearn\\base.py:486: UserWarning: X has feature names, but RandomForestRegressor was fitted without feature names\n",
      "  warnings.warn(\n",
      "c:\\Users\\aimartins\\OneDrive - Parfois, SA\\Desktop\\MDS6\\MDS6-IDEALISTA\\.venv\\lib\\site-packages\\sklearn\\metrics\\_regression.py:483: FutureWarning: 'squared' is deprecated in version 1.4 and will be removed in 1.6. To calculate the root mean squared error, use the function'root_mean_squared_error'.\n",
      "  warnings.warn(\n",
      "c:\\Users\\aimartins\\OneDrive - Parfois, SA\\Desktop\\MDS6\\MDS6-IDEALISTA\\.venv\\lib\\site-packages\\sklearn\\metrics\\_regression.py:483: FutureWarning: 'squared' is deprecated in version 1.4 and will be removed in 1.6. To calculate the root mean squared error, use the function'root_mean_squared_error'.\n",
      "  warnings.warn(\n"
     ]
    }
   ],
   "source": [
    "models_to_test = {'RandomForest': ensemble.RandomForestRegressor()}\n",
    "\n",
    "for model_name, model in models_to_test.items():\n",
    "    # Create pipeline\n",
    "    pipeline = get_pipeline(\n",
    "        base_model=model,\n",
    "        impute=True,  \n",
    "        scale=True,  \n",
    "        encode=True,\n",
    "        num_features=X_train.columns.to_list()\n",
    "    )\n",
    "        \n",
    "    # Fit the pipeline and make predictions\n",
    "    pipeline.fit(X_train, y_train)\n",
    "    y_pred = pipeline.predict(X_test)\n",
    "    \n",
    "    # Calculate metrics\n",
    "    metrics_df, df_test_with_metrics = calculate_metrics(y_test, y_pred, df_test, model_name)\n",
    "\n",
    "    # Add model_name column to df_test_with_metrics\n",
    "    df_test_with_metrics['model_name'] = model_name\n",
    "    df_test_with_metrics['model_folder'] = f\"experiment_{model_name}_{datetime.now().strftime('%Y%m%d-%H%M%S')}\"\n",
    "\n",
    "    # Append df_test_with_metrics to all_df_test_with_metrics\n",
    "    evaluation_df_with_metrics = pd.concat([evaluation_df_with_metrics, df_test_with_metrics], ignore_index=True)\n",
    "\n",
    "    # Append metrics_df to all_metrics_df\n",
    "    evaluation =pd.concat([evaluation, metrics_df], ignore_index=True)\n",
    "\n",
    "    #Export Model\n",
    "    output_folder = export_model(\n",
    "    model=model,\n",
    "    X_train=X_train,\n",
    "    y_train=y_train,\n",
    "    X_test=X_test,\n",
    "    y_test=y_test,\n",
    "    base_path=BASE_PATH_EXPERIMENTS,\n",
    "    save_model=True,     \n",
    "    save_datasets=True,  \n",
    "    zip_files=True      \n",
    "    )\n",
    "\n",
    "# Save the DataFrames to CSV files\n",
    "evaluation.to_csv(PATH_EVALUATION_CSV, index=False)\n",
    "evaluation_df_with_metrics.to_csv(PATH_EVALUATION_DF_WITH_METRICS_CSV, index=False)\n"
   ]
  },
  {
   "cell_type": "code",
   "execution_count": null,
   "metadata": {},
   "outputs": [],
   "source": []
  }
 ],
 "metadata": {
  "kernelspec": {
   "display_name": ".venv",
   "language": "python",
   "name": "python3"
  },
  "language_info": {
   "codemirror_mode": {
    "name": "ipython",
    "version": 3
   },
   "file_extension": ".py",
   "mimetype": "text/x-python",
   "name": "python",
   "nbconvert_exporter": "python",
   "pygments_lexer": "ipython3",
   "version": "3.10.1"
  }
 },
 "nbformat": 4,
 "nbformat_minor": 2
}
