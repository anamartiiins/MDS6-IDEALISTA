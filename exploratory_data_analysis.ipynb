{
 "cells": [
  {
   "cell_type": "markdown",
   "metadata": {},
   "source": [
    "# Data Extraction"
   ]
  },
  {
   "cell_type": "code",
   "execution_count": null,
   "metadata": {},
   "outputs": [],
   "source": [
    "# Normal imports\n",
    "import warnings\n",
    "import pandas as pd\n",
    "import matplotlib.pyplot as plt\n",
    "import numpy as np\n",
    "import seaborn as sns\n",
    "\n",
    "#Specific imports\n",
    "import rtree\n",
    "import pygeos\n",
    "import geopandas\n",
    "from geopandas import GeoDataFrame\n",
    "from shapely import wkt\n",
    "from shapely.geometry import Point\n",
    "\n",
    "#Internal imports\n",
    "from src.data_extraction.data_extraction import extract_initial_data\n",
    "from src.constants import (\n",
    "    NEW_COLUMNS_NAMES,\n",
    "    REMOVE_COLUMNS_BY_INPUT,\n",
    "    REMOVE_COLUMNS_BY_CORRELATIONS,\n",
    "    NUM_VARIABLES_TO_SEE_DISTRIBUTION,\n",
    "    BINARY_VARIABLES,\n",
    "    IDEALISTA_COLORS\n",
    ")\n",
    "from src.preprocessing.preprocessing_utils import (\n",
    "    generate_pandas_profiling_report,\n",
    "    remove_duplicated_anuncios_id,\n",
    "    find_single_value_columns,\n",
    "    treatment_missing_values,\n",
    "    visualize_distribution,\n",
    "    visualize_binary_distribution,\n",
    "    correlation_values,\n",
    "    feature_engineering,\n",
    "    get_location_name_w_gdf,\n",
    ")\n",
    "\n",
    "# Settings\n",
    "warnings.filterwarnings(\"ignore\")\n",
    "%matplotlib inline\n",
    "pd.set_option('display.max_columns', None)\n",
    "# pd.set_option('display.max_rows', None)"
   ]
  },
  {
   "cell_type": "markdown",
   "metadata": {},
   "source": [
    "## Extract all dataset available, provided by idealista"
   ]
  },
  {
   "cell_type": "code",
   "execution_count": null,
   "metadata": {},
   "outputs": [],
   "source": [
    "df_assets, df_ine, df_osm, df_pois, df_polygons = extract_initial_data(\n",
    "    root_dir=\"input_data\"\n",
    ")"
   ]
  },
  {
   "cell_type": "code",
   "execution_count": null,
   "metadata": {},
   "outputs": [],
   "source": [
    "# Change columns names to friendly ones\n",
    "df_assets = df_assets.drop(columns=[\"ADTYPOLOGY\", \"ADOPERATION\"])\n",
    "df_assets.columns = NEW_COLUMNS_NAMES"
   ]
  },
  {
   "cell_type": "markdown",
   "metadata": {},
   "source": [
    "## Polygons and INE censal polygons"
   ]
  },
  {
   "cell_type": "markdown",
   "metadata": {},
   "source": [
    "#### Polygons"
   ]
  },
  {
   "cell_type": "code",
   "execution_count": null,
   "metadata": {},
   "outputs": [],
   "source": [
    "# Convert WKT strings to Shapely geometries and create a GeoDataFrame\n",
    "df_polygons['geometry'] = df_polygons['WKT'].apply(wkt.loads)\n",
    "gdf_polygons = geopandas.GeoDataFrame(df_polygons['geometry'], crs='epsg:4326')\n",
    "\n",
    "# Add additional columns to the GeoDataFrame\n",
    "gdf_polygons['barrio_id'] = df_polygons['LOCATIONID']\n",
    "gdf_polygons['barrio'] = df_polygons['LOCATIONNAME']\n",
    "\n",
    "# Create Point geometries using longitude and latitude coordinates from df_assets\n",
    "geometry = [Point(xy) for xy in zip(df_assets.longitud, df_assets.latitud)]\n",
    "\n",
    "# Create a GeoDataFrame gdf_ads with df_prices data and geometry column\n",
    "gdf_assets = GeoDataFrame(df_assets, crs=\"EPSG:4326\", geometry=geometry)\n",
    "\n",
    "# Apply a logarithmic scale transformation to the 'precio' column in gdf_ads\n",
    "gdf_assets['precio_logaritmico'] = np.log(gdf_assets['precio'])\n"
   ]
  },
  {
   "cell_type": "markdown",
   "metadata": {},
   "source": [
    "#### INE Censal Polygons"
   ]
  },
  {
   "cell_type": "code",
   "execution_count": null,
   "metadata": {},
   "outputs": [],
   "source": [
    "# Convert WKT strings to Shapely geometries and create a GeoDataFrame for census polygons\n",
    "df_ine['geometry'] = df_ine['WKT'].apply(wkt.loads)\n",
    "gdf_polygons_census = geopandas.GeoDataFrame(df_ine['geometry'], crs='epsg:4326')\n",
    "\n",
    "# Add additional column 'CUSEC' to the GeoDataFrame representing census polygons\n",
    "gdf_polygons_census['cusec'] = df_ine['CUSEC']"
   ]
  },
  {
   "cell_type": "code",
   "execution_count": null,
   "metadata": {},
   "outputs": [],
   "source": [
    "# Add the census codes (CUSEC)\n",
    "gdf_assets = geopandas.sjoin(gdf_assets, gdf_polygons_census, how=\"inner\")\n",
    "\n",
    "# Drop index_right \n",
    "gdf_assets = gdf_assets.drop(columns=['index_right'])\n",
    "\n",
    "# Now add the idealista zones (LOCATIONID, LOCATIONNAME)\n",
    "gdf_assets = geopandas.sjoin(gdf_assets, gdf_polygons, how=\"inner\")\n",
    "\n",
    "# Drop index_right \n",
    "gdf_assets = gdf_assets.drop(columns=['index_right'])\n",
    "\n",
    "df_assets = gdf_assets.copy()"
   ]
  },
  {
   "cell_type": "markdown",
   "metadata": {},
   "source": [
    "## ASSETS - Basis"
   ]
  },
  {
   "cell_type": "markdown",
   "metadata": {},
   "source": [
    "### General"
   ]
  },
  {
   "cell_type": "code",
   "execution_count": null,
   "metadata": {},
   "outputs": [],
   "source": [
    "# Generate pandas profiling: select all columns except those selected\n",
    "#FIXME: uncomment before commit\n",
    "# generate_pandas_profiling_report(df=df_assets[df_assets.columns.difference(['geometry','cusec', 'barrio_id'])])"
   ]
  },
  {
   "cell_type": "code",
   "execution_count": null,
   "metadata": {},
   "outputs": [],
   "source": [
    "# See general statistics of df\n",
    "description_df = df_assets.describe().transpose().style.format(\"{:.2f}\")\n",
    "description_df"
   ]
  },
  {
   "cell_type": "code",
   "execution_count": null,
   "metadata": {},
   "outputs": [],
   "source": [
    "# Remove duplicated anuncios_id\n",
    "df_assets = remove_duplicated_anuncios_id(df_assets=df_assets, criteria=\"last\")"
   ]
  },
  {
   "cell_type": "code",
   "execution_count": null,
   "metadata": {},
   "outputs": [],
   "source": [
    "# Remove columns by input\n",
    "df_assets = df_assets.drop(columns=REMOVE_COLUMNS_BY_INPUT)\n",
    "print('Removed columns:', REMOVE_COLUMNS_BY_INPUT)"
   ]
  },
  {
   "cell_type": "code",
   "execution_count": null,
   "metadata": {},
   "outputs": [],
   "source": [
    "# Remove columns that only have one different value\n",
    "remove_unique_value_columns = find_single_value_columns(df=df_assets)\n",
    "df_assets = df_assets.drop(columns=remove_unique_value_columns)"
   ]
  },
  {
   "cell_type": "markdown",
   "metadata": {},
   "source": [
    "### Missing Values"
   ]
  },
  {
   "cell_type": "code",
   "execution_count": null,
   "metadata": {},
   "outputs": [],
   "source": [
    "# Missing values\n",
    "remove_columns_by_missing_values, df_assets = treatment_missing_values(df=df_assets)"
   ]
  },
  {
   "cell_type": "markdown",
   "metadata": {},
   "source": [
    "### Data Treatment and Feature Engineering"
   ]
  },
  {
   "cell_type": "code",
   "execution_count": null,
   "metadata": {},
   "outputs": [],
   "source": [
    "# Mean price by barrio\n",
    "# TODO: if needed, do the same to cusec\n",
    "df_metrics_barrios= df_assets.groupby(['barrio']).agg({'precio':['median', 'mean', 'std'], \n",
    "                                   'precio_unitario_m2':['median', 'mean', 'std']}).reset_index()\n",
    "\n",
    "df_metrics_barrios.columns = ['barrio', \n",
    "                         'precio_median_barrio', 'precio_mean_barrio', 'precio_std_barrio', \n",
    "                         'precio_unitario_m2_median_barrio', 'precio_unitario_m2_mean_barrio', 'precio_unitario_m2_std_barrio']"
   ]
  },
  {
   "cell_type": "code",
   "execution_count": null,
   "metadata": {},
   "outputs": [],
   "source": [
    "# Add mean price by barrio to dataset\n",
    "df_assets=df_assets.merge(df_metrics_barrios[['barrio', 'precio_mean_barrio', 'precio_unitario_m2_mean_barrio']], on=['barrio'], how=\"inner\")"
   ]
  },
  {
   "cell_type": "code",
   "execution_count": null,
   "metadata": {},
   "outputs": [],
   "source": [
    "# Remove this observation because it is a outlier: seen in graph in section \"coordenadas\"\n",
    "df_assets = df_assets[df_assets['latitud'] >= 37]"
   ]
  },
  {
   "cell_type": "code",
   "execution_count": null,
   "metadata": {},
   "outputs": [],
   "source": [
    "# Remove columns by high correlations\n",
    "df_assets = df_assets.drop(columns=REMOVE_COLUMNS_BY_CORRELATIONS)"
   ]
  },
  {
   "cell_type": "code",
   "execution_count": null,
   "metadata": {},
   "outputs": [],
   "source": [
    "# Feature Engineering: add new variables\n",
    "(\n",
    "    add_columns,\n",
    "    remove_columns_by_creating_new_variables,\n",
    "    df_assets,\n",
    ") = feature_engineering(df=df_assets)\n",
    "\n",
    "print(\"Columns added:\", add_columns)\n",
    "print('Columns removed by adding new:', remove_columns_by_creating_new_variables)"
   ]
  },
  {
   "cell_type": "markdown",
   "metadata": {},
   "source": [
    "### TODO:\n",
    "* Baños 0: Intentar imputar el numero de baños por el número de baño médio por metro cuadrado?\n",
    "* Duplex: Hacer analysis de como es de distincto el precio entre casas duplex y no duplex\n",
    "* Estudio: \n",
    "    1. Hacer analysis de como es de distincto el precio entre casas estudio y no estudio\n",
    "    2. Mirar el numero de habitaciones de los estudios  \n",
    "* Precio Parking:\n",
    "    1. Validar el sentido de una casa sin parking tener precio del parking > 0 \n",
    "    2. Validar porque todos los parking têm precio 1 y no 0\n",
    "* Orientaciones: hay casas sin ninguna orientacion y no son solo interiores. \n"
   ]
  },
  {
   "cell_type": "markdown",
   "metadata": {},
   "source": [
    "N_Banos: Impute values when n_banos = 0"
   ]
  },
  {
   "cell_type": "code",
   "execution_count": null,
   "metadata": {},
   "outputs": [],
   "source": [
    "# Filter rows where n_banos > 0\n",
    "filtered_df = df_assets[df_assets['n_banos'] > 0]\n",
    "\n",
    "# Calculate number of bathrooms per square meter\n",
    "filtered_df['n_banos_m2'] = filtered_df['n_banos'] / filtered_df['area_construida']\n",
    "\n",
    "# Calculate mean number of bathrooms per square meter\n",
    "mean_bathrooms_per_sqm = filtered_df['n_banos_m2'].mean()\n",
    "\n",
    "# Impute number of bathrooms for rows where n_banos == 0: mean number of bath by m^2 * m^2, rounded, and minimum 1\n",
    "df_assets['n_banos_m2'] = (np.maximum(mean_bathrooms_per_sqm * df_assets['area_construida'],1)).round().astype(int)\n",
    "\n",
    "# Validate if it is a good way to values, calculating mape comparing with the real n_banos\n",
    "df_assets_aux = df_assets[df_assets['n_banos']>0]\n",
    "absolute_percentage_errors = np.abs((df_assets_aux['n_banos'] - df_assets_aux['n_banos_m2']) / df_assets_aux['n_banos'])\n",
    "mape = np.mean(absolute_percentage_errors) * 100\n",
    "print(\"MAPE\", mape)\n",
    "\n",
    "# Delete filtered_df, df_assets_aux as they are only auxiliar \n",
    "del filtered_df, df_assets_aux\n",
    "\n",
    "# Assign the imputed value to n_banos where n_banos == 0\n",
    "df_assets.loc[df_assets['n_banos'] == 0, 'n_banos'] = df_assets.loc[df_assets['n_banos'] == 0, 'n_banos_m2']\n",
    "\n",
    "# # Drop the n_banos_m2 column as it is no longer needed\n",
    "df_assets = df_assets.drop(columns=['n_banos_m2'])"
   ]
  },
  {
   "cell_type": "code",
   "execution_count": null,
   "metadata": {},
   "outputs": [],
   "source": [
    "# UTIL\n",
    "df_assets.to_csv(r'output_data\\df_util.csv')"
   ]
  },
  {
   "cell_type": "markdown",
   "metadata": {},
   "source": [
    "Duplex"
   ]
  },
  {
   "cell_type": "code",
   "execution_count": null,
   "metadata": {},
   "outputs": [],
   "source": [
    "# Calculate mean price for duplex and non-duplex houses\n",
    "mean_price_duplex = df_assets[df_assets.duplex==1]['precio'].mean()\n",
    "mean_price_no_duplex = df_assets[df_assets.duplex!=1]['precio'].mean()\n",
    "print('Duplex prices are, in average,', round(mean_price_duplex/mean_price_no_duplex,2), 'times the price of a non duplex house')"
   ]
  },
  {
   "cell_type": "markdown",
   "metadata": {},
   "source": [
    "Studio"
   ]
  },
  {
   "cell_type": "code",
   "execution_count": null,
   "metadata": {},
   "outputs": [],
   "source": [
    "# Calculate mean price for duplex and non-duplex houses\n",
    "mean_price_estudio = df_assets[df_assets.estudio==1]['precio'].mean()\n",
    "mean_price_no_estudio = df_assets[df_assets.estudio!=1]['precio'].mean()\n",
    "print('Studio prices are, in average,', round(mean_price_estudio/mean_price_no_estudio,2), 'times the price of a non studio house')\n",
    "\n",
    "print('Studios distinct number of bathrooms:', \n",
    "      df_assets[df_assets.estudio==1][['n_banos']].value_counts())"
   ]
  },
  {
   "cell_type": "markdown",
   "metadata": {},
   "source": [
    "Precio Parking\n",
    "\n",
    "    1. si precio_parking>1 --> parking = 1 \n",
    "    2. si parking==0 --> precio_parking = 0 \n",
    "    \n",
    "Validar porque tenemos precio_parking = 1 cuando parking = 0\n"
   ]
  },
  {
   "cell_type": "code",
   "execution_count": null,
   "metadata": {},
   "outputs": [],
   "source": [
    "df_assets.loc[(df_assets['parking'] == 0) & (df_assets['precio_parking'] > 1), 'precio_parking'].value_counts()"
   ]
  },
  {
   "cell_type": "markdown",
   "metadata": {},
   "source": [
    "Orientaciones"
   ]
  },
  {
   "cell_type": "code",
   "execution_count": null,
   "metadata": {},
   "outputs": [],
   "source": [
    "# Calculate the sum of all orientations to see if we have information about orientation of all houses\n",
    "df_assets['orientacion_total'] = df_assets.orientacion_s+df_assets.orientacion_e+df_assets.orientacion_n+df_assets.orientacion_o\n",
    "\n",
    "# Create a cross-tabulation between 'orientacion_total' and 'interior'\n",
    "cross_tab = pd.crosstab(df_assets['orientacion_total'], df_assets['interior'])\n",
    "print('Compare total orientation with if is an interior house or not')\n",
    "print(cross_tab)"
   ]
  },
  {
   "cell_type": "markdown",
   "metadata": {},
   "source": [
    "### Correlations"
   ]
  },
  {
   "cell_type": "code",
   "execution_count": null,
   "metadata": {},
   "outputs": [],
   "source": [
    "# Correlation values\n",
    "correlation_matrix, correlated_variables = correlation_values(df=df_assets, threshold=0.8)"
   ]
  },
  {
   "cell_type": "markdown",
   "metadata": {},
   "source": [
    "### Visualizations"
   ]
  },
  {
   "cell_type": "code",
   "execution_count": null,
   "metadata": {},
   "outputs": [],
   "source": [
    "# visualize_distribution(\n",
    "#     df=df_assets, numerical_columns=NUM_VARIABLES_TO_SEE_DISTRIBUTION\n",
    "# )\n"
   ]
  },
  {
   "cell_type": "markdown",
   "metadata": {},
   "source": [
    "#### Mean average price duplex vs non duplex"
   ]
  },
  {
   "cell_type": "code",
   "execution_count": null,
   "metadata": {},
   "outputs": [],
   "source": [
    "# Create a bar plot\n",
    "plt.figure(figsize=(8, 6))\n",
    "bars = plt.bar(['Duplex', 'Non-Duplex'], [mean_price_duplex, mean_price_no_duplex], color=['blue', 'orange'])\n",
    "\n",
    "# Add labels to each bar\n",
    "for bar in bars:\n",
    "    yval = bar.get_height()\n",
    "    plt.text(bar.get_x() + bar.get_width()/2, yval, round(yval, 0).astype(int), va='bottom')\n",
    "\n",
    "plt.xlabel('House Type')\n",
    "plt.ylabel('Mean Price')\n",
    "plt.title('Mean Price Comparison between Duplex and Non-Duplex Houses')\n",
    "plt.show()"
   ]
  },
  {
   "cell_type": "markdown",
   "metadata": {},
   "source": [
    "#### Price Density (Precio del Vuelo)"
   ]
  },
  {
   "cell_type": "code",
   "execution_count": null,
   "metadata": {},
   "outputs": [],
   "source": [
    "# Price density\n",
    "df_assets.precio.plot.kde()"
   ]
  },
  {
   "cell_type": "code",
   "execution_count": null,
   "metadata": {},
   "outputs": [],
   "source": [
    "# Price density droping by 1M€\n",
    "ax = df_assets.precio.plot.kde()\n",
    "plt.xlim([0, 1000000])\n",
    "plt.show()"
   ]
  },
  {
   "cell_type": "code",
   "execution_count": null,
   "metadata": {},
   "outputs": [],
   "source": [
    "# Change scale of the price\n",
    "df_assets['precio_logaritmico'] = np.log(df_assets['precio'])\n",
    "ax = df_assets.precio_logaritmico.plot.kde()\n",
    "plt.show()\n"
   ]
  },
  {
   "cell_type": "markdown",
   "metadata": {},
   "source": [
    "Temas a tener en cuenta:\n",
    "\n",
    "* La distribución de valores es multimodal\n",
    "* La distribución de valores no es simétrica\n",
    "* El rango de valores puede ser muy amplio\n",
    "\n",
    "El precio depende de muchos factores, pero en la literatura existen dos grandes factores:\n",
    "\n",
    "* Precio del suelo (el suelo donde está construido)\n",
    "* Precio del vuelo (lo que está construido)\n",
    "\n",
    "Para empezar, una forma de controlar el precio del suelo es incorporar información de la zona y una forma para controla el precio del suelo es normalizar por metros cuadrados (es nuestra variable __UNITPRICE__).\n",
    "\n",
    "En la siguiente gráfica observamos el fenómeno de la multimodalidad, significa que podemos encontrarnos inmuebles con las mismas características constructivas con distintos precios €/m², ¿por qué?, principalmente por el otro factor: __el precio del suelo__."
   ]
  },
  {
   "cell_type": "markdown",
   "metadata": {},
   "source": [
    "#### Unit Price Density (Precio del suelo)"
   ]
  },
  {
   "cell_type": "code",
   "execution_count": null,
   "metadata": {},
   "outputs": [],
   "source": [
    "ax = df_assets.precio_unitario_m2.plot.kde()\n",
    "plt.xlim([0, 10000])\n",
    "plt.show()"
   ]
  },
  {
   "cell_type": "markdown",
   "metadata": {},
   "source": [
    "#### Mean price by Barrio"
   ]
  },
  {
   "cell_type": "code",
   "execution_count": null,
   "metadata": {},
   "outputs": [],
   "source": [
    "# Sort DataFrame by highest mean price\n",
    "df_metrics_barrios_sorted = df_metrics_barrios.sort_values(by='precio_mean', ascending=False)\n",
    "\n",
    "# Set the custom color palette\n",
    "sns.set_palette(IDEALISTA_COLORS)\n",
    "\n",
    "# Plot mean price by barrio (sorted)\n",
    "plt.figure(figsize=(20, 10))\n",
    "plt.bar(df_metrics_barrios_sorted['barrio'], df_metrics_barrios_sorted['precio_mean'], color='skyblue')\n",
    "plt.xlabel('Barrio')\n",
    "plt.ylabel('Mean Price')\n",
    "plt.title('Mean Price by Barrio (Ordered by Highest Price)')\n",
    "plt.xticks(rotation=90)\n",
    "plt.tight_layout()\n",
    "plt.show()\n"
   ]
  },
  {
   "cell_type": "markdown",
   "metadata": {},
   "source": [
    "#### Coordenadas"
   ]
  },
  {
   "cell_type": "code",
   "execution_count": null,
   "metadata": {},
   "outputs": [],
   "source": [
    "# Price Total €\n",
    "cm = plt.cm.get_cmap('magma')  # or your colormap of choice\n",
    "ax = df_assets.plot.scatter(x='longitud', y='latitud', c='precio',figsize=(10, 10), cmap=cm)\n",
    "ax.set_xlabel('Longitud', fontsize=15)\n",
    "ax.set_ylabel('Latitud', fontsize=15)\n",
    "ax.set_title('Madrid: Total price')\n",
    "ax.figure.show()\n",
    "\n",
    "# Price Total by km^2 €\n",
    "cm = plt.cm.get_cmap('magma')  # or your colormap of choice\n",
    "ax = df_assets.plot.scatter(x='longitud', y='latitud', c='precio_unitario_m2',figsize=(10, 10), cmap=cm)\n",
    "ax.set_xlabel('Longitud', fontsize=15)\n",
    "ax.set_ylabel('Latitud', fontsize=15)\n",
    "ax.set_title('Madrid: Total price by m^2')\n",
    "ax.figure.show()"
   ]
  },
  {
   "cell_type": "markdown",
   "metadata": {},
   "source": [
    "#### Polygons"
   ]
  },
  {
   "cell_type": "code",
   "execution_count": null,
   "metadata": {},
   "outputs": [],
   "source": [
    "# Plot the GeoDataFrame gdf_polygons as white polygons with black edges on the base plot\n",
    "base = gdf_polygons.plot(color='white', edgecolor='black', figsize=(10, 10))\n",
    "\n",
    "# Overlay gdf_ads on the same plot, plotting points colored by 'precio_unitario_km2' column\n",
    "gdf_assets.plot(ax=base, marker='o', column='precio_unitario_m2', markersize=5, cmap='inferno')"
   ]
  },
  {
   "cell_type": "code",
   "execution_count": null,
   "metadata": {},
   "outputs": [],
   "source": [
    "# Use logaritmic price\n",
    "# Plot the GeoDataFrame gdf_polygons as white polygons with black edges on the base plot\n",
    "base = gdf_polygons.plot(color='white', edgecolor='black', figsize=(10, 10))\n",
    "\n",
    "# Overlay gdf_ads on the same plot, plotting points colored by 'precio_logaritmico' column\n",
    "gdf_assets.plot(ax=base, marker='o', column='precio_logaritmico', markersize=5, cmap='inferno')\n"
   ]
  },
  {
   "cell_type": "markdown",
   "metadata": {},
   "source": [
    "#### INE Censal Polygons"
   ]
  },
  {
   "cell_type": "code",
   "execution_count": null,
   "metadata": {},
   "outputs": [],
   "source": [
    "# Plot the census polygons as white polygons with black edges on the base plot\n",
    "base = gdf_polygons_census.plot(color='white', edgecolor='black', figsize=(10, 10))\n",
    "\n",
    "# Overlay gdf_ads on the same plot, plotting points colored by 'precio_unitario_km2' column\n",
    "gdf_assets.plot(ax=base, marker='o', column='precio_unitario_m2', markersize=5, cmap='inferno')\n"
   ]
  },
  {
   "cell_type": "markdown",
   "metadata": {},
   "source": [
    "#### Points of Interest - Open Street Map - Basis"
   ]
  },
  {
   "cell_type": "code",
   "execution_count": null,
   "metadata": {},
   "outputs": [],
   "source": [
    "# Show points of interest\n",
    "unique_codes = df_osm['CODE'].unique()\n",
    "cmap = plt.cm.get_cmap('magma', len(unique_codes))\n",
    "\n",
    "# Create scatter plot\n",
    "fig, ax = plt.subplots(figsize=(10, 10))\n",
    "for i, code in enumerate(unique_codes):\n",
    "    subset = df_osm[df_osm['CODE'] == code]\n",
    "    ax.scatter(subset['LNG'], subset['LAT'], c=cmap(i), label=code)\n",
    "\n",
    "# Set labels and title\n",
    "ax.set_xlabel('Longitud', fontsize=15)\n",
    "ax.set_ylabel('Latitud', fontsize=15)\n",
    "ax.set_title('Points of Interest - Open Street Map')\n",
    "\n",
    "# Add legend\n",
    "ax.legend()\n",
    "plt.show()\n"
   ]
  },
  {
   "cell_type": "markdown",
   "metadata": {},
   "source": []
  }
 ],
 "metadata": {
  "kernelspec": {
   "display_name": "Python 3",
   "language": "python",
   "name": "python3"
  },
  "language_info": {
   "codemirror_mode": {
    "name": "ipython",
    "version": 3
   },
   "file_extension": ".py",
   "mimetype": "text/x-python",
   "name": "python",
   "nbconvert_exporter": "python",
   "pygments_lexer": "ipython3",
   "version": "3.10.1"
  }
 },
 "nbformat": 4,
 "nbformat_minor": 2
}
