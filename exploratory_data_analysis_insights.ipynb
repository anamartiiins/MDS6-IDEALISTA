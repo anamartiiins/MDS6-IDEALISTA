{
 "cells": [
  {
   "cell_type": "markdown",
   "metadata": {},
   "source": [
    "# Data Extraction"
   ]
  },
  {
   "cell_type": "code",
   "execution_count": 2,
   "metadata": {},
   "outputs": [],
   "source": [
    "# Normal imports\n",
    "import warnings\n",
    "import pandas as pd\n",
    "import matplotlib.pyplot as plt\n",
    "import numpy as np\n",
    "import seaborn as sns\n",
    "\n",
    "#Specific imports\n",
    "import rtree\n",
    "import pygeos\n",
    "import geopandas\n",
    "from geopandas import GeoDataFrame\n",
    "from shapely import wkt\n",
    "from shapely.geometry import Point\n",
    "from sklearn.model_selection import train_test_split\n",
    "\n",
    "\n",
    "#Internal imports\n",
    "from src.data_extraction.data_extraction import extract_initial_data\n",
    "from src.constants import (\n",
    "    IDEALISTA_COLORS, \n",
    "    NUM_VARIABLES_TO_SEE_DISTRIBUTION\n",
    ")\n",
    "from src.preprocessing.preprocessing_utils import (\n",
    "    generate_pandas_profiling_report, visualize_distribution)\n",
    "\n",
    "# Settings\n",
    "warnings.filterwarnings(\"ignore\")\n",
    "%matplotlib inline\n",
    "pd.set_option('display.max_columns', None)\n",
    "# pd.set_option('display.max_rows', None)"
   ]
  },
  {
   "cell_type": "markdown",
   "metadata": {},
   "source": [
    "# Read csv train"
   ]
  },
  {
   "cell_type": "code",
   "execution_count": 4,
   "metadata": {},
   "outputs": [],
   "source": [
    "df_train = pd.read_csv(r'C:\\Users\\aimartins\\OneDrive - Parfois, SA\\Desktop\\MDS6\\MDS6-IDEALISTA\\output_data\\df_train_util.csv')"
   ]
  },
  {
   "cell_type": "markdown",
   "metadata": {},
   "source": [
    "# Insights"
   ]
  },
  {
   "cell_type": "markdown",
   "metadata": {},
   "source": [
    "Pandas Profiling"
   ]
  },
  {
   "cell_type": "code",
   "execution_count": null,
   "metadata": {},
   "outputs": [],
   "source": [
    "# Generate pandas profiling: select all columns except those selected\n",
    "generate_pandas_profiling_report(df=df_train[df_train.columns.difference(['geometry','cusec', 'barrio_id'])])"
   ]
  },
  {
   "cell_type": "markdown",
   "metadata": {},
   "source": [
    "Duplex"
   ]
  },
  {
   "cell_type": "code",
   "execution_count": 24,
   "metadata": {},
   "outputs": [
    {
     "name": "stdout",
     "output_type": "stream",
     "text": [
      "Duplex prices are, in average, 1.01 times the price of a non duplex house\n"
     ]
    }
   ],
   "source": [
    "# Calculate mean price for duplex and non-duplex houses\n",
    "mean_price_duplex = df_train[df_train.duplex==1]['precio_unitario_m2'].mean()\n",
    "mean_price_no_duplex = df_train[df_train.duplex!=1]['precio_unitario_m2'].mean()\n",
    "print('Duplex prices are, in average,', round(mean_price_duplex/mean_price_no_duplex,2), 'times the price of a non duplex house')"
   ]
  },
  {
   "cell_type": "code",
   "execution_count": 25,
   "metadata": {},
   "outputs": [
    {
     "name": "stdout",
     "output_type": "stream",
     "text": [
      "Duplex prices are, in average, 1.28 times the price of a non duplex house\n"
     ]
    }
   ],
   "source": [
    "# Calculate mean price for duplex and non-duplex houses\n",
    "mean_price_duplex = df_train[df_train.duplex==1]['precio'].mean()\n",
    "mean_price_no_duplex = df_train[df_train.duplex!=1]['precio'].mean()\n",
    "print('Duplex prices are, in average,', round(mean_price_duplex/mean_price_no_duplex,2), 'times the price of a non duplex house')"
   ]
  },
  {
   "cell_type": "markdown",
   "metadata": {},
   "source": [
    "Studio"
   ]
  },
  {
   "cell_type": "code",
   "execution_count": 26,
   "metadata": {},
   "outputs": [
    {
     "name": "stdout",
     "output_type": "stream",
     "text": [
      "Studio prices are, in average, 1.22 times the price of a non studio house\n",
      "Studios distinct number of bedrooms: n_habitaciones\n",
      "0                 1536\n",
      "1                    4\n",
      "2                    2\n",
      "3                    1\n",
      "Name: count, dtype: int64\n"
     ]
    }
   ],
   "source": [
    "# Calculate mean price for studio and non-studio houses\n",
    "mean_price_estudio = df_train[df_train.estudio==1]['precio_unitario_m2'].mean()\n",
    "mean_price_no_estudio = df_train[df_train.estudio!=1]['precio_unitario_m2'].mean()\n",
    "print('Studio prices are, in average,', round(mean_price_estudio/mean_price_no_estudio,2), 'times the price of a non studio house')\n",
    "\n",
    "print('Studios distinct number of bedrooms:', \n",
    "      df_train[df_train.estudio==1][['n_habitaciones']].value_counts())"
   ]
  },
  {
   "cell_type": "code",
   "execution_count": 27,
   "metadata": {},
   "outputs": [
    {
     "name": "stdout",
     "output_type": "stream",
     "text": [
      "Metros cuadrados por habitacion en casas NO ESTUDIO 39.228213467750535\n",
      "Media de area total NO ESTUDIO 99.38311885510382\n",
      "Metros cuadrados por habitacion en casas ESTUDIO 51.333333333333336\n",
      "Media de area total NO ESTUDIO 69.28571428571429\n",
      "       area_construida  n_habitaciones\n",
      "23073               30               1\n",
      "30486               35               1\n",
      "32320              106               3\n",
      "38957               41               2\n",
      "41300               69               2\n",
      "48969              180               1\n",
      "55380               24               1\n"
     ]
    }
   ],
   "source": [
    "df_aux = df_train[(df_train.estudio==0) & (df_train.n_habitaciones>0)][['area_construida', 'n_habitaciones']]\n",
    "df_aux['m2_n_habitaciones'] = df_aux.area_construida/df_aux.n_habitaciones\n",
    "print('Metros cuadrados por habitacion en casas NO ESTUDIO', np.mean(df_aux.m2_n_habitaciones))\n",
    "print('Media de area total NO ESTUDIO', np.mean(df_aux.area_construida))\n",
    "\n",
    "df_aux_1 = df_train[(df_train.estudio==1) & (df_train.n_habitaciones>0)][['area_construida', 'n_habitaciones']]\n",
    "df_aux_1['m2_n_habitaciones'] = df_aux_1.area_construida/df_aux_1.n_habitaciones\n",
    "print('Metros cuadrados por habitacion en casas ESTUDIO', np.mean(df_aux_1.m2_n_habitaciones))\n",
    "print('Media de area total NO ESTUDIO', np.mean(df_aux_1.area_construida))\n",
    "\n",
    "print(df_train[(df_train.estudio==1) & (df_train.n_habitaciones>0)][['area_construida', 'n_habitaciones']])\n"
   ]
  },
  {
   "cell_type": "code",
   "execution_count": 48,
   "metadata": {},
   "outputs": [
    {
     "data": {
      "text/plain": [
       "precio_parking\n",
       "20001     137\n",
       "30001     130\n",
       "25001     115\n",
       "15001     102\n",
       "40001      92\n",
       "         ... \n",
       "770001      1\n",
       "21201       1\n",
       "150001      1\n",
       "4001        1\n",
       "161         1\n",
       "Name: count, Length: 129, dtype: int64"
      ]
     },
     "execution_count": 48,
     "metadata": {},
     "output_type": "execute_result"
    }
   ],
   "source": [
    "df_train.loc[(df_train['parking'] == 0) & (df_train['precio_parking'] > 1), 'precio_parking'].value_counts()"
   ]
  },
  {
   "cell_type": "markdown",
   "metadata": {},
   "source": [
    "Orientaciones"
   ]
  },
  {
   "cell_type": "code",
   "execution_count": null,
   "metadata": {},
   "outputs": [],
   "source": [
    "# Calculate the sum of all orientations to see if we have information about orientation of all houses\n",
    "df_train['orientacion_total'] = df_train.orientacion_s+df_train.orientacion_e+df_train.orientacion_n+df_train.orientacion_o\n",
    "\n",
    "# Create a cross-tabulation between 'orientacion_total' and 'interior'\n",
    "cross_tab = pd.crosstab(df_train['orientacion_total'], df_train['interior'])\n",
    "print('Compare total orientation with if is an interior house or not')\n",
    "print(cross_tab)"
   ]
  },
  {
   "cell_type": "markdown",
   "metadata": {},
   "source": [
    "### Visualizations"
   ]
  },
  {
   "cell_type": "code",
   "execution_count": null,
   "metadata": {},
   "outputs": [],
   "source": [
    "visualize_distribution(\n",
    "    df=df_train, numerical_columns=NUM_VARIABLES_TO_SEE_DISTRIBUTION\n",
    ")"
   ]
  },
  {
   "cell_type": "markdown",
   "metadata": {},
   "source": [
    "#### Pairwise relationships and distributions between multiple variables"
   ]
  },
  {
   "cell_type": "code",
   "execution_count": null,
   "metadata": {},
   "outputs": [],
   "source": [
    "sns.pairplot(df_train[NUM_VARIABLES_TO_SEE_DISTRIBUTION],diag_kind='kde')"
   ]
  },
  {
   "cell_type": "markdown",
   "metadata": {},
   "source": [
    "#### Mean average price duplex vs non duplex"
   ]
  },
  {
   "cell_type": "code",
   "execution_count": null,
   "metadata": {},
   "outputs": [],
   "source": [
    "# Create a bar plot\n",
    "plt.figure(figsize=(8, 6))\n",
    "bars = plt.bar(['Duplex', 'Non-Duplex'], [mean_price_duplex, mean_price_no_duplex], color=['blue', 'orange'])\n",
    "\n",
    "# Add labels to each bar\n",
    "for bar in bars:\n",
    "    yval = bar.get_height()\n",
    "    plt.text(bar.get_x() + bar.get_width()/2, yval, round(yval, 0).astype(int), va='bottom')\n",
    "\n",
    "plt.xlabel('House Type')\n",
    "plt.ylabel('Mean Price')\n",
    "plt.title('Mean Price Comparison between Duplex and Non-Duplex Houses')\n",
    "plt.show()"
   ]
  },
  {
   "cell_type": "markdown",
   "metadata": {},
   "source": [
    "#### Price Density (Precio del Vuelo)"
   ]
  },
  {
   "cell_type": "code",
   "execution_count": null,
   "metadata": {},
   "outputs": [],
   "source": [
    "# Price density\n",
    "df_train.precio.plot.kde()"
   ]
  },
  {
   "cell_type": "code",
   "execution_count": null,
   "metadata": {},
   "outputs": [],
   "source": [
    "# Price density droping by 1M€\n",
    "ax = df_train.precio.plot.kde()\n",
    "plt.xlim([0, 1000000])\n",
    "plt.show()"
   ]
  },
  {
   "cell_type": "code",
   "execution_count": null,
   "metadata": {},
   "outputs": [],
   "source": [
    "# Change scale of the price\n",
    "df_train['precio_logaritmico'] = np.log(df_train['precio'])\n",
    "ax = df_train.precio_logaritmico.plot.kde()\n",
    "plt.show()\n"
   ]
  },
  {
   "cell_type": "markdown",
   "metadata": {},
   "source": [
    "Temas a tener en cuenta:\n",
    "\n",
    "* La distribución de valores es multimodal\n",
    "* La distribución de valores no es simétrica\n",
    "* El rango de valores puede ser muy amplio\n",
    "\n",
    "El precio depende de muchos factores, pero en la literatura existen dos grandes factores:\n",
    "\n",
    "* Precio del suelo (el suelo donde está construido)\n",
    "* Precio del vuelo (lo que está construido)\n",
    "\n",
    "Para empezar, una forma de controlar el precio del suelo es incorporar información de la zona y una forma para controla el precio del suelo es normalizar por metros cuadrados (es nuestra variable __UNITPRICE__).\n",
    "\n",
    "En la siguiente gráfica observamos el fenómeno de la multimodalidad, significa que podemos encontrarnos inmuebles con las mismas características constructivas con distintos precios €/m², ¿por qué?, principalmente por el otro factor: __el precio del suelo__."
   ]
  },
  {
   "cell_type": "markdown",
   "metadata": {},
   "source": [
    "#### Unit Price Density (Precio del suelo)"
   ]
  },
  {
   "cell_type": "code",
   "execution_count": null,
   "metadata": {},
   "outputs": [],
   "source": [
    "ax = df_train.precio_unitario_m2.plot.kde()\n",
    "plt.xlim([0, 10000])\n",
    "plt.show()"
   ]
  },
  {
   "cell_type": "markdown",
   "metadata": {},
   "source": [
    "#### Mean price by Barrio"
   ]
  },
  {
   "cell_type": "code",
   "execution_count": null,
   "metadata": {},
   "outputs": [],
   "source": [
    "# Mean price by barrio\n",
    "df_metrics_barrios= df_train.groupby(['barrio']).agg({'precio':['median', 'mean', 'std'], \n",
    "                                   'precio_unitario_m2':['median', 'mean', 'std']}).reset_index()\n",
    "\n",
    "df_metrics_barrios.columns = ['barrio', \n",
    "                         'precio_median_barrio', 'precio_mean_barrio', 'precio_std_barrio', \n",
    "                         'precio_unitario_m2_median_barrio', 'precio_unitario_m2_mean_barrio', 'precio_unitario_m2_std_barrio']"
   ]
  },
  {
   "cell_type": "code",
   "execution_count": 51,
   "metadata": {},
   "outputs": [
    {
     "data": {
      "text/html": [
       "<div>\n",
       "<style scoped>\n",
       "    .dataframe tbody tr th:only-of-type {\n",
       "        vertical-align: middle;\n",
       "    }\n",
       "\n",
       "    .dataframe tbody tr th {\n",
       "        vertical-align: top;\n",
       "    }\n",
       "\n",
       "    .dataframe thead th {\n",
       "        text-align: right;\n",
       "    }\n",
       "</style>\n",
       "<table border=\"1\" class=\"dataframe\">\n",
       "  <thead>\n",
       "    <tr style=\"text-align: right;\">\n",
       "      <th></th>\n",
       "      <th>barrio</th>\n",
       "      <th>precio_median_barrio</th>\n",
       "      <th>precio_mean_barrio</th>\n",
       "      <th>precio_std_barrio</th>\n",
       "      <th>precio_unitario_m2_median_barrio</th>\n",
       "      <th>precio_unitario_m2_mean_barrio</th>\n",
       "      <th>precio_unitario_m2_std_barrio</th>\n",
       "    </tr>\n",
       "  </thead>\n",
       "  <tbody>\n",
       "    <tr>\n",
       "      <th>0</th>\n",
       "      <td>12 de Octubre-Orcasur</td>\n",
       "      <td>317500.0</td>\n",
       "      <td>444223.118280</td>\n",
       "      <td>442760.662201</td>\n",
       "      <td>4309.894737</td>\n",
       "      <td>4396.394570</td>\n",
       "      <td>1663.131772</td>\n",
       "    </tr>\n",
       "    <tr>\n",
       "      <th>1</th>\n",
       "      <td>Abrantes</td>\n",
       "      <td>172500.0</td>\n",
       "      <td>256714.285714</td>\n",
       "      <td>219183.983168</td>\n",
       "      <td>2446.428571</td>\n",
       "      <td>2768.754521</td>\n",
       "      <td>1239.535470</td>\n",
       "    </tr>\n",
       "    <tr>\n",
       "      <th>2</th>\n",
       "      <td>Acacias</td>\n",
       "      <td>274000.0</td>\n",
       "      <td>355086.261981</td>\n",
       "      <td>266947.656267</td>\n",
       "      <td>3965.217391</td>\n",
       "      <td>3967.685006</td>\n",
       "      <td>1522.527774</td>\n",
       "    </tr>\n",
       "    <tr>\n",
       "      <th>3</th>\n",
       "      <td>Adelfas</td>\n",
       "      <td>365000.0</td>\n",
       "      <td>413043.927649</td>\n",
       "      <td>279776.058917</td>\n",
       "      <td>4264.367816</td>\n",
       "      <td>4068.375849</td>\n",
       "      <td>1524.887937</td>\n",
       "    </tr>\n",
       "    <tr>\n",
       "      <th>4</th>\n",
       "      <td>Aeropuerto</td>\n",
       "      <td>233000.0</td>\n",
       "      <td>262979.310345</td>\n",
       "      <td>102375.091166</td>\n",
       "      <td>2663.461538</td>\n",
       "      <td>2703.018024</td>\n",
       "      <td>738.911528</td>\n",
       "    </tr>\n",
       "    <tr>\n",
       "      <th>...</th>\n",
       "      <td>...</td>\n",
       "      <td>...</td>\n",
       "      <td>...</td>\n",
       "      <td>...</td>\n",
       "      <td>...</td>\n",
       "      <td>...</td>\n",
       "      <td>...</td>\n",
       "    </tr>\n",
       "    <tr>\n",
       "      <th>130</th>\n",
       "      <td>Vinateros</td>\n",
       "      <td>175000.0</td>\n",
       "      <td>246149.253731</td>\n",
       "      <td>270734.422658</td>\n",
       "      <td>2467.532468</td>\n",
       "      <td>2627.260940</td>\n",
       "      <td>1073.183097</td>\n",
       "    </tr>\n",
       "    <tr>\n",
       "      <th>131</th>\n",
       "      <td>Virgen del Cortijo - Manoteras</td>\n",
       "      <td>291500.0</td>\n",
       "      <td>325268.292683</td>\n",
       "      <td>217325.155991</td>\n",
       "      <td>3453.736878</td>\n",
       "      <td>3360.139762</td>\n",
       "      <td>1540.457857</td>\n",
       "    </tr>\n",
       "    <tr>\n",
       "      <th>132</th>\n",
       "      <td>Vista Alegre</td>\n",
       "      <td>152000.0</td>\n",
       "      <td>199939.597315</td>\n",
       "      <td>154957.414734</td>\n",
       "      <td>2035.714286</td>\n",
       "      <td>2197.922056</td>\n",
       "      <td>772.098222</td>\n",
       "    </tr>\n",
       "    <tr>\n",
       "      <th>133</th>\n",
       "      <td>Zofío</td>\n",
       "      <td>275000.0</td>\n",
       "      <td>416016.393443</td>\n",
       "      <td>369095.813455</td>\n",
       "      <td>3862.500000</td>\n",
       "      <td>3834.199355</td>\n",
       "      <td>1506.978940</td>\n",
       "    </tr>\n",
       "    <tr>\n",
       "      <th>134</th>\n",
       "      <td>Águilas</td>\n",
       "      <td>176000.0</td>\n",
       "      <td>256485.294118</td>\n",
       "      <td>246894.668958</td>\n",
       "      <td>2183.216783</td>\n",
       "      <td>2474.565185</td>\n",
       "      <td>858.777680</td>\n",
       "    </tr>\n",
       "  </tbody>\n",
       "</table>\n",
       "<p>135 rows × 7 columns</p>\n",
       "</div>"
      ],
      "text/plain": [
       "                             barrio  precio_median_barrio  precio_mean_barrio  \\\n",
       "0             12 de Octubre-Orcasur              317500.0       444223.118280   \n",
       "1                          Abrantes              172500.0       256714.285714   \n",
       "2                           Acacias              274000.0       355086.261981   \n",
       "3                           Adelfas              365000.0       413043.927649   \n",
       "4                        Aeropuerto              233000.0       262979.310345   \n",
       "..                              ...                   ...                 ...   \n",
       "130                       Vinateros              175000.0       246149.253731   \n",
       "131  Virgen del Cortijo - Manoteras              291500.0       325268.292683   \n",
       "132                    Vista Alegre              152000.0       199939.597315   \n",
       "133                           Zofío              275000.0       416016.393443   \n",
       "134                         Águilas              176000.0       256485.294118   \n",
       "\n",
       "     precio_std_barrio  precio_unitario_m2_median_barrio  \\\n",
       "0        442760.662201                       4309.894737   \n",
       "1        219183.983168                       2446.428571   \n",
       "2        266947.656267                       3965.217391   \n",
       "3        279776.058917                       4264.367816   \n",
       "4        102375.091166                       2663.461538   \n",
       "..                 ...                               ...   \n",
       "130      270734.422658                       2467.532468   \n",
       "131      217325.155991                       3453.736878   \n",
       "132      154957.414734                       2035.714286   \n",
       "133      369095.813455                       3862.500000   \n",
       "134      246894.668958                       2183.216783   \n",
       "\n",
       "     precio_unitario_m2_mean_barrio  precio_unitario_m2_std_barrio  \n",
       "0                       4396.394570                    1663.131772  \n",
       "1                       2768.754521                    1239.535470  \n",
       "2                       3967.685006                    1522.527774  \n",
       "3                       4068.375849                    1524.887937  \n",
       "4                       2703.018024                     738.911528  \n",
       "..                              ...                            ...  \n",
       "130                     2627.260940                    1073.183097  \n",
       "131                     3360.139762                    1540.457857  \n",
       "132                     2197.922056                     772.098222  \n",
       "133                     3834.199355                    1506.978940  \n",
       "134                     2474.565185                     858.777680  \n",
       "\n",
       "[135 rows x 7 columns]"
      ]
     },
     "execution_count": 51,
     "metadata": {},
     "output_type": "execute_result"
    }
   ],
   "source": [
    "df_metrics_barrios"
   ]
  },
  {
   "cell_type": "code",
   "execution_count": null,
   "metadata": {},
   "outputs": [],
   "source": [
    "# Sort DataFrame by highest mean price\n",
    "df_metrics_barrios_sorted = df_metrics_barrios.sort_values(by='precio_mean_barrio', ascending=False)\n",
    "\n",
    "# Set the custom color palette\n",
    "sns.set_palette(IDEALISTA_COLORS)\n",
    "\n",
    "# Plot mean price by barrio (sorted)\n",
    "plt.figure(figsize=(20, 10))\n",
    "plt.bar(df_metrics_barrios_sorted['barrio'], df_metrics_barrios_sorted['precio_mean_barrio'], color='skyblue')\n",
    "plt.xlabel('Barrio')\n",
    "plt.ylabel('Mean Price')\n",
    "plt.title('Mean Price by Barrio (Ordered by Highest Price)')\n",
    "plt.xticks(rotation=90)\n",
    "plt.tight_layout()\n",
    "plt.show()\n"
   ]
  },
  {
   "cell_type": "markdown",
   "metadata": {},
   "source": [
    "#### Box Plot"
   ]
  },
  {
   "cell_type": "code",
   "execution_count": null,
   "metadata": {},
   "outputs": [],
   "source": [
    "# Plot horizontal boxplot with price in millions\n",
    "plt.figure(figsize=(10, 6))\n",
    "sns.boxplot(data=df_train, x=df_train['precio'])\n",
    "plt.title('Box plot')\n",
    "plt.xlabel('Price')"
   ]
  },
  {
   "cell_type": "code",
   "execution_count": null,
   "metadata": {},
   "outputs": [],
   "source": [
    "plt.figure(figsize=(20, 30))\n",
    "sns.boxplot(data=df_train, x=\"area_construida\", y=\"barrio\")"
   ]
  },
  {
   "cell_type": "markdown",
   "metadata": {},
   "source": [
    "#### Coordenadas"
   ]
  },
  {
   "cell_type": "code",
   "execution_count": null,
   "metadata": {},
   "outputs": [],
   "source": [
    "# Price Total €\n",
    "cm = plt.cm.get_cmap('magma')  # or your colormap of choice\n",
    "ax = df_train.plot.scatter(x='longitud', y='latitud', c='precio',figsize=(10, 10), cmap=cm)\n",
    "ax.set_xlabel('Longitud', fontsize=15)\n",
    "ax.set_ylabel('Latitud', fontsize=15)\n",
    "ax.set_title('Madrid: Total price')\n",
    "ax.figure.show()\n",
    "\n",
    "# Price Total by km^2 €\n",
    "cm = plt.cm.get_cmap('magma')  # or your colormap of choice\n",
    "ax = df_train.plot.scatter(x='longitud', y='latitud', c='precio_unitario_m2',figsize=(10, 10), cmap=cm)\n",
    "ax.set_xlabel('Longitud', fontsize=15)\n",
    "ax.set_ylabel('Latitud', fontsize=15)\n",
    "ax.set_title('Madrid: Total price by m^2')\n",
    "ax.figure.show()"
   ]
  },
  {
   "cell_type": "markdown",
   "metadata": {},
   "source": [
    "#### Polygons"
   ]
  },
  {
   "cell_type": "code",
   "execution_count": null,
   "metadata": {},
   "outputs": [],
   "source": [
    "df, df_ine, df_osm, df_pois, df_polygons = extract_initial_data(\n",
    "    root_dir=\"input_data\"\n",
    ")"
   ]
  },
  {
   "cell_type": "code",
   "execution_count": null,
   "metadata": {},
   "outputs": [],
   "source": [
    "# Convert WKT strings to Shapely geometries and create a GeoDataFrame\n",
    "df_polygons['geometry'] = df_polygons['WKT'].apply(wkt.loads)\n",
    "gdf_polygons = geopandas.GeoDataFrame(df_polygons['geometry'], crs='epsg:4326')\n",
    "\n",
    "# Add additional columns to the GeoDataFrame\n",
    "gdf_polygons['barrio_id'] = df_polygons['LOCATIONID']\n",
    "gdf_polygons['barrio'] = df_polygons['LOCATIONNAME']\n",
    "\n",
    "# Create Point geometries using longitude and latitude coordinates from df_train\n",
    "geometry = [Point(xy) for xy in zip(df_train.longitud, df.latitud)]\n",
    "\n",
    "# Create a GeoDataFrame gdf_ads with df_prices data and geometry column\n",
    "gdf_train_train = GeoDataFrame(df_train, crs=\"EPSG:4326\", geometry=geometry)\n",
    "\n",
    "# Apply a logarithmic scale transformation to the 'precio' column in gdf_ads\n",
    "gdf_train_train['precio_logaritmico'] = np.log(gdf_train_train['precio'])\n"
   ]
  },
  {
   "cell_type": "code",
   "execution_count": null,
   "metadata": {},
   "outputs": [],
   "source": [
    "# Plot the GeoDataFrame gdf_polygons as white polygons with black edges on the base plot\n",
    "base = gdf_polygons.plot(color='white', edgecolor='black', figsize=(10, 10))\n",
    "\n",
    "# Overlay gdf_ads on the same plot, plotting points colored by 'precio_unitario_km2' column\n",
    "gdf_train_train.plot(ax=base, marker='o', column='precio_unitario_m2', markersize=5, cmap='inferno')"
   ]
  },
  {
   "cell_type": "code",
   "execution_count": null,
   "metadata": {},
   "outputs": [],
   "source": [
    "# Use logaritmic price\n",
    "# Plot the GeoDataFrame gdf_polygons as white polygons with black edges on the base plot\n",
    "base = gdf_polygons.plot(color='white', edgecolor='black', figsize=(10, 10))\n",
    "\n",
    "# Overlay gdf_ads on the same plot, plotting points colored by 'precio_logaritmico' column\n",
    "gdf_train_train.plot(ax=base, marker='o', column='precio_logaritmico', markersize=5, cmap='inferno')\n"
   ]
  },
  {
   "cell_type": "markdown",
   "metadata": {},
   "source": [
    "#### INE Censal Polygons"
   ]
  },
  {
   "cell_type": "code",
   "execution_count": null,
   "metadata": {},
   "outputs": [],
   "source": [
    "# Convert WKT strings to Shapely geometries and create a GeoDataFrame for census polygons\n",
    "df_ine['geometry'] = df_ine['WKT'].apply(wkt.loads)\n",
    "gdf_polygons_census = geopandas.GeoDataFrame(df_ine['geometry'], crs='epsg:4326')\n",
    "\n",
    "# Add additional column 'CUSEC' to the GeoDataFrame representing census polygons\n",
    "gdf_polygons_census['cusec'] = df_ine['CUSEC']"
   ]
  },
  {
   "cell_type": "code",
   "execution_count": null,
   "metadata": {},
   "outputs": [],
   "source": [
    "# Plot the census polygons as white polygons with black edges on the base plot\n",
    "base = gdf_polygons_census.plot(color='white', edgecolor='black', figsize=(10, 10))\n",
    "\n",
    "# Overlay gdf_ads on the same plot, plotting points colored by 'precio_unitario_km2' column\n",
    "gdf_train_train.plot(ax=base, marker='o', column='precio_unitario_m2', markersize=5, cmap='inferno')\n"
   ]
  },
  {
   "cell_type": "markdown",
   "metadata": {},
   "source": [
    "#### Points of Interest - Open Street Map - Basis"
   ]
  },
  {
   "cell_type": "code",
   "execution_count": null,
   "metadata": {},
   "outputs": [],
   "source": [
    "# TODO - nice to have: conteos por la superficie del barrios  \n",
    "# Show points of interest\n",
    "unique_codes = df_osm['CODE'].unique()\n",
    "cmap = plt.cm.get_cmap('magma', len(unique_codes))\n",
    "\n",
    "# Create scatter plot\n",
    "fig, ax = plt.subplots(figsize=(10, 10))\n",
    "for i, code in enumerate(unique_codes):\n",
    "    subset = df_osm[df_osm['CODE'] == code]\n",
    "    ax.scatter(subset['LNG'], subset['LAT'], c=cmap(i), label=code)\n",
    "\n",
    "# Set labels and title\n",
    "ax.set_xlabel('Longitud', fontsize=15)\n",
    "ax.set_ylabel('Latitud', fontsize=15)\n",
    "ax.set_title('Points of Interest - Open Street Map')\n",
    "\n",
    "# Add legend\n",
    "ax.legend()\n",
    "plt.show()\n"
   ]
  },
  {
   "cell_type": "markdown",
   "metadata": {},
   "source": []
  }
 ],
 "metadata": {
  "kernelspec": {
   "display_name": "Python 3",
   "language": "python",
   "name": "python3"
  },
  "language_info": {
   "codemirror_mode": {
    "name": "ipython",
    "version": 3
   },
   "file_extension": ".py",
   "mimetype": "text/x-python",
   "name": "python",
   "nbconvert_exporter": "python",
   "pygments_lexer": "ipython3",
   "version": "3.10.1"
  }
 },
 "nbformat": 4,
 "nbformat_minor": 2
}
