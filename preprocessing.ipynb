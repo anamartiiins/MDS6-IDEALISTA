{
 "cells": [
  {
   "cell_type": "code",
   "outputs": [],
   "source": [
    "import pandas as pd\n",
    "import warnings\n",
    "warnings.filterwarnings(\"ignore\")\n"
   ],
   "metadata": {
    "collapsed": false
   },
   "id": "1b12f8d962269fbd",
   "execution_count": null
  },
  {
   "cell_type": "code",
   "outputs": [],
   "source": [
    "from src.preprocessing.data_extraction import extract_initial_data, get_info_from_polygons_and_ine\n",
    "from src.preprocessing.preprocessing import (remove_duplicated_assets_id, \n",
    "                                             find_single_value_columns,\n",
    "                                             treatment_missing_values, \n",
    "                                             feature_engineering, \n",
    "                                             imputation_values_not_nulls,\n",
    "                                             detect_outliers_by_percentile,\n",
    "                                             add_aggregated_features,\n",
    "                                             correlation_values)\n",
    "from sklearn.model_selection import train_test_split\n",
    "from src.constants import NEW_COLUMNS_NAMES, REMOVE_COLUMNS_BY_INPUT, REMOVE_COLUMNS_BY_CORRELATIONS"
   ],
   "metadata": {
    "collapsed": false
   },
   "id": "b2f53d1bf2603b44",
   "execution_count": null
  },
  {
   "cell_type": "markdown",
   "source": [
    "Extracción de los datasets disponibilizados"
   ],
   "metadata": {
    "collapsed": false
   },
   "id": "2e91bfc355d55a0a"
  },
  {
   "cell_type": "code",
   "outputs": [],
   "source": [
    "df, df_ine, df_osm, df_pois, df_polygons = extract_initial_data(\n",
    "    root_dir=\"input_data\"\n",
    ")"
   ],
   "metadata": {
    "collapsed": true
   },
   "id": "initial_id",
   "execution_count": null
  },
  {
   "cell_type": "markdown",
   "source": [
    "División train y test: dejar datos sin cambiar para probar la pipeline y los modelos"
   ],
   "metadata": {
    "collapsed": false
   },
   "id": "6c47adb3ca4b523c"
  },
  {
   "cell_type": "code",
   "outputs": [],
   "source": [
    "# Remove target\n",
    "X = df.drop(columns=['PRICE'])\n",
    "y = df['PRICE']\n",
    "\n",
    "#Split train y test\n",
    "X_train, X_test, y_train, y_test = train_test_split(X, y, test_size=0.2, random_state=42)\n",
    "\n",
    "#Keep predictors variables and target together to do preprocessing\n",
    "df_train = pd.concat([y_train, X_train], axis=1)\n",
    "df_test = pd.concat([y_test, X_test], axis=1)"
   ],
   "metadata": {
    "collapsed": false
   },
   "id": "c3e4d4fe8742d223",
   "execution_count": null
  },
  {
   "cell_type": "markdown",
   "source": [
    "Empezar el pre procesado solo con df_train"
   ],
   "metadata": {
    "collapsed": false
   },
   "id": "f7a19db599908642"
  },
  {
   "cell_type": "code",
   "outputs": [],
   "source": [
    "# Change columns names to friendly ones\n",
    "df_train.columns = NEW_COLUMNS_NAMES"
   ],
   "metadata": {
    "collapsed": false
   },
   "id": "1ba0de994c48ffb",
   "execution_count": null
  },
  {
   "cell_type": "code",
   "outputs": [],
   "source": [
    "# Add columns 'geometry', 'precio_logaritmico', 'cusec', 'barrio_id', 'barrio'\n",
    "df_train = get_info_from_polygons_and_ine(df_polygons=df_polygons, df_ine=df_ine, df=df_train)"
   ],
   "metadata": {
    "collapsed": false
   },
   "id": "aa5ac38c6b447959",
   "execution_count": null
  },
  {
   "cell_type": "code",
   "outputs": [],
   "source": [
    "# Remove duplicate assets\n",
    "df_train = remove_duplicated_assets_id(df_assets=df_train, criteria=\"last\")"
   ],
   "metadata": {
    "collapsed": false
   },
   "id": "d5e9c482685ce26d",
   "execution_count": null
  },
  {
   "cell_type": "code",
   "outputs": [],
   "source": [
    "# Add variables interior (1/0) and antiguidade. \n",
    "# Remove assets that are \"nueva_construccion\"\n",
    "_, columns_to_drop_by_creation_of_new_ones, df_train = feature_engineering(df=df_train)"
   ],
   "metadata": {
    "collapsed": false
   },
   "id": "bcc44fc68ca14d0e",
   "execution_count": null
  },
  {
   "cell_type": "code",
   "outputs": [],
   "source": [
    "df_train = treatment_missing_values(df=df_train, columns_to_drop_null_values=['n_piso', 'cat_calidad', 'interior'])"
   ],
   "metadata": {
    "collapsed": false
   },
   "id": "8f59de07c1033478",
   "execution_count": null
  },
  {
   "cell_type": "code",
   "outputs": [],
   "source": [
    "# Impute number of bathrooms and price_parking when asset does not have parking\n",
    "df_train, median_bathrooms_per_sqm = imputation_values_not_nulls(df=df_train)"
   ],
   "metadata": {
    "collapsed": false
   },
   "id": "5ff94e2a02fc3336",
   "execution_count": null
  },
  {
   "cell_type": "code",
   "outputs": [
    {
     "name": "stdout",
     "output_type": "stream",
     "text": [
      "Columns with only one distinct value: ['tipologia_imueble', 'operacion', 'ciudad', 'ADTYPOLOGY', 'ADOPERATION']\n"
     ]
    }
   ],
   "source": [
    "# Remove columns that only have one different value\n",
    "remove_unique_value_columns = find_single_value_columns(df=df_train)\n",
    "df_train = df_train.drop(columns=remove_unique_value_columns)\n",
    "\n",
    "# Remove columns by input (team decision)\n",
    "df_train = df_train.drop(columns=REMOVE_COLUMNS_BY_INPUT)\n",
    "\n",
    "# Remove columns by creation of new ones (team decision)\n",
    "df_train = df_train.drop(columns=columns_to_drop_by_creation_of_new_ones)\n",
    "\n",
    "# Remove columns by correlations (team decision) \n",
    "df_train=df_train.drop(columns=REMOVE_COLUMNS_BY_CORRELATIONS)"
   ],
   "metadata": {
    "collapsed": false,
    "ExecuteTime": {
     "end_time": "2024-03-10T00:25:57.375504Z",
     "start_time": "2024-03-10T00:25:54.727017Z"
    }
   },
   "id": "dbedecc6c7134acd",
   "execution_count": 20
  },
  {
   "cell_type": "code",
   "outputs": [],
   "source": [
    "# Identifiy and remove outliers by percentile 995 for most correlated variables with target\n",
    "df_train = detect_outliers_by_percentile(df=df_train, percentile=0.995, variables_most_correlated_w_target=[\"n_banos\",\n",
    "                                                                                                            \"n_habitaciones\",\n",
    "                                                                                                            \"area_construida\",\n",
    "                                                                                                            \"distancia_castellana\",\n",
    "                                                                                                            ])"
   ],
   "metadata": {
    "collapsed": false
   },
   "id": "802c075915e01e5f",
   "execution_count": null
  },
  {
   "cell_type": "code",
   "outputs": [],
   "source": [
    "correlation_matrix, _=correlation_values(df=df_train, threshold=0.8)"
   ],
   "metadata": {
    "collapsed": false
   },
   "id": "a272b397f6359fe9",
   "execution_count": null
  },
  {
   "cell_type": "code",
   "outputs": [],
   "source": [
    "df_train = add_aggregated_features(df=df_train, variable=\"barrio\")"
   ],
   "metadata": {
    "collapsed": false
   },
   "id": "9f63572f54c3c8ab",
   "execution_count": null
  },
  {
   "cell_type": "code",
   "outputs": [],
   "source": [
    "df_train.to_csv(r'output_data/df_train_util_v2.csv')"
   ],
   "metadata": {
    "collapsed": false
   },
   "id": "c8550d58089b6a44",
   "execution_count": null
  },
  {
   "cell_type": "code",
   "outputs": [],
   "source": [],
   "metadata": {
    "collapsed": false
   },
   "id": "82516b736ff18352"
  }
 ],
 "metadata": {
  "kernelspec": {
   "display_name": "Python 3",
   "language": "python",
   "name": "python3"
  },
  "language_info": {
   "codemirror_mode": {
    "name": "ipython",
    "version": 2
   },
   "file_extension": ".py",
   "mimetype": "text/x-python",
   "name": "python",
   "nbconvert_exporter": "python",
   "pygments_lexer": "ipython2",
   "version": "2.7.6"
  }
 },
 "nbformat": 4,
 "nbformat_minor": 5
}
